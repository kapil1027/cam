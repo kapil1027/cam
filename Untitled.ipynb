{
 "cells": [
  {
   "cell_type": "code",
   "execution_count": 10,
   "metadata": {},
   "outputs": [
    {
     "name": "stdout",
     "output_type": "stream",
     "text": [
      " * Serving Flask app \"__main__\" (lazy loading)\n",
      " * Environment: production\n",
      "   WARNING: This is a development server. Do not use it in a production deployment.\n",
      "   Use a production WSGI server instead.\n",
      " * Debug mode: off\n"
     ]
    },
    {
     "name": "stderr",
     "output_type": "stream",
     "text": [
      " * Running on http://127.0.0.1:5000/ (Press CTRL+C to quit)\n",
      "127.0.0.1 - - [05/Apr/2020 18:36:27] \"GET / HTTP/1.1\" 200 -\n",
      "127.0.0.1 - - [05/Apr/2020 18:36:30] \"POST /get-text HTTP/1.1\" 200 -\n"
     ]
    },
    {
     "name": "stdout",
     "output_type": "stream",
     "text": [
      "static\\models\\muse_paint.t7\n"
     ]
    },
    {
     "name": "stderr",
     "output_type": "stream",
     "text": [
      "127.0.0.1 - - [05/Apr/2020 18:36:42] \"POST /upload HTTP/1.1\" 302 -\n",
      "127.0.0.1 - - [05/Apr/2020 18:36:42] \"GET /uploads/WIN_20190730_03_51_36_Pro.jpg HTTP/1.1\" 200 -\n"
     ]
    }
   ],
   "source": [
    "import os\n",
    "import cv2, imutils\n",
    "from flask import Flask, request, redirect, url_for, render_template, send_from_directory\n",
    "from werkzeug.utils import secure_filename\n",
    "from datetime import datetime\n",
    "import time\n",
    "now = datetime.now()\n",
    "\n",
    "UPLOAD_FOLDER = os.getcwd() + r'\\static\\upload'\n",
    "DOWNLOAD_FOLDER = os.getcwd() + r'\\static\\download'\n",
    "OUTPUT_FOLDER = r'static\\types'\n",
    "ALLOWED_EXTENSIONS = {'jpg', 'jpeg','png','jpe','jfif'}\n",
    "\n",
    "app = Flask(__name__)\n",
    "\n",
    "app.config['UPLOAD_FOLDER'] = UPLOAD_FOLDER\n",
    "app.config['MAX_CONTENT_LENGTH'] = 4 * 1024 * 1024\n",
    "app.secret_key = 'super_secret key'\n",
    "\n",
    "\n",
    "def allowed_file(filename):\n",
    "    return '.' in filename and filename.rsplit('.', 1)[1].lower() in ALLOWED_EXTENSIONS\n",
    "\n",
    "O_file= []\n",
    "output = []\n",
    "style = []\n",
    "\n",
    "@app.route('/')\n",
    "def upload_file():\n",
    "    global O_file, output\n",
    "    O_file = r\"\\static\\Tiger_original.jpg\"\n",
    "    output = os.listdir(OUTPUT_FOLDER )\n",
    "    for i in range(len(output)):\n",
    "        output[i]=os.path.join(OUTPUT_FOLDER,output[i])\n",
    "    return render_template('__init__.html', O_file=O_file , output = output   )\n",
    "\n",
    "\n",
    "@app.route('/get-text', methods=['GET', 'POST'])\n",
    "def foo():\n",
    "    global O_file, output, style\n",
    "    if request.method == 'POST':\n",
    "        style = None\n",
    "        style = request.form.get('Style')\n",
    "        if style == None:\n",
    "            return render_template('__init__.html',O_file=O_file , output =output)\n",
    "        return render_template('upload.html',style=style)\n",
    "\n",
    "\n",
    "@app.route('/upload', methods=['GET', 'POST'])\n",
    "def action():\n",
    "    global style, O_file, output\n",
    "    if request.method == 'POST':\n",
    "        file = request.files['f']\n",
    "        if file.filename == '':\n",
    "            return redirect(request.url)\n",
    "        if file and allowed_file(file.filename):\n",
    "            filename = secure_filename(file.filename)\n",
    "            file.save(os.path.join(app.config['UPLOAD_FOLDER'], filename))\n",
    "            Transform(os.path.join(app.config['UPLOAD_FOLDER'], filename), filename,style)\n",
    "            return redirect(url_for('uploaded_file', filename=filename))\n",
    "    return render_template('__init__.html',O_file=O_file , output =output)\n",
    "\n",
    "def Transform(path, filename, style):\n",
    "    image = cv2.imread(path,1)\n",
    "    image = imutils.resize(image, width=1000)\n",
    "    (h, w) = image.shape[:2]\n",
    "    model = style.split(\"\\\\\")[-1].split(\".\")[0] +\".t7\"\n",
    "    model = r\"static\\models\\{}\".format(model)\n",
    "    net = cv2.dnn.readNetFromTorch(model)\n",
    "    blob = cv2.dnn.blobFromImage(image, 1.0, (w, h),(103.939, 116.779, 123.680), swapRB=False, crop=False)\n",
    "    net.setInput(blob)\n",
    "    output = net.forward()\n",
    "    output = output.reshape((3, output.shape[2], output.shape[3]))\n",
    "    output[0] += 103.939\n",
    "    output[1] += 116.779\n",
    "    output[2] += 123.680\n",
    "    output = output.transpose(1, 2, 0)\n",
    "    pap=DOWNLOAD_FOLDER+ \"\\\\\" + filename \n",
    "    cv2.imwrite(pap,output)\n",
    "\n",
    "@app.route('/uploads/<filename>')\n",
    "def uploaded_file(filename):\n",
    "    return send_from_directory(DOWNLOAD_FOLDER, filename, as_attachment=True)\n",
    "\n",
    "if __name__ == '__main__':\n",
    "    app.run(host = \"0.0.0.0\", port = 5001 ,threaded =True)\n"
   ]
  },
  {
   "cell_type": "code",
   "execution_count": null,
   "metadata": {},
   "outputs": [],
   "source": []
  }
 ],
 "metadata": {
  "kernelspec": {
   "display_name": "Python 3",
   "language": "python",
   "name": "python3"
  },
  "language_info": {
   "codemirror_mode": {
    "name": "ipython",
    "version": 3
   },
   "file_extension": ".py",
   "mimetype": "text/x-python",
   "name": "python",
   "nbconvert_exporter": "python",
   "pygments_lexer": "ipython3",
   "version": "3.7.3"
  }
 },
 "nbformat": 4,
 "nbformat_minor": 2
}
